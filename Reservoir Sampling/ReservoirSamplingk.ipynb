{
 "cells": [
  {
   "cell_type": "markdown",
   "id": "255e28d7",
   "metadata": {},
   "source": []
  },
  {
   "cell_type": "code",
   "execution_count": 5,
   "id": "0d6d930d",
   "metadata": {},
   "outputs": [],
   "source": [
    "import random\n",
    "\n",
    "def sample(filename ,k):\n",
    "    i = 0\n",
    "    m = ['']*k\n",
    "    with open(filename) as infile:\n",
    "        for line in infile:\n",
    "            if (i < k):\n",
    "                m[i]= line.strip('\\n')\n",
    "            elif (i>=k):\n",
    "                j = random.randrange(i+1);\n",
    "                if (j < k):\n",
    "                    m[j] = line.strip('\\n')\n",
    "            i =i+1\n",
    "    return m      "
   ]
  },
  {
   "cell_type": "code",
   "execution_count": 6,
   "id": "2d78a13e",
   "metadata": {},
   "outputs": [
    {
     "data": {
      "text/plain": [
       "['DeVaughn Akoon-Purcell',\n",
       " 'John Henson',\n",
       " 'Wendell Carter Jr.',\n",
       " \"Toure' Murry\",\n",
       " 'Derrick White',\n",
       " 'Nemanja Bjelica',\n",
       " 'Cory Joseph',\n",
       " 'Dante Cunningham',\n",
       " 'Corey Brewer',\n",
       " 'Larry Hughes']"
      ]
     },
     "execution_count": 6,
     "metadata": {},
     "output_type": "execute_result"
    }
   ],
   "source": [
    "sample (\"input.txt\", 10)\n"
   ]
  },
  {
   "cell_type": "code",
   "execution_count": null,
   "id": "d46cb3c4",
   "metadata": {},
   "outputs": [],
   "source": []
  },
  {
   "cell_type": "code",
   "execution_count": null,
   "id": "27b7616a",
   "metadata": {},
   "outputs": [],
   "source": []
  }
 ],
 "metadata": {
  "kernelspec": {
   "display_name": "Python 3 (ipykernel)",
   "language": "python",
   "name": "python3"
  },
  "language_info": {
   "codemirror_mode": {
    "name": "ipython",
    "version": 3
   },
   "file_extension": ".py",
   "mimetype": "text/x-python",
   "name": "python",
   "nbconvert_exporter": "python",
   "pygments_lexer": "ipython3",
   "version": "3.9.2"
  }
 },
 "nbformat": 4,
 "nbformat_minor": 5
}
